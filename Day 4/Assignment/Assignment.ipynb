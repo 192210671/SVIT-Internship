{
 "cells": [
  {
   "cell_type": "code",
   "execution_count": 1,
   "id": "ab38b0e0-41d8-4eef-8f66-5e27bb7cb392",
   "metadata": {},
   "outputs": [
    {
     "name": "stdout",
     "output_type": "stream",
     "text": [
      "17\n",
      "7\n",
      "60\n",
      "2.4\n",
      "2\n"
     ]
    }
   ],
   "source": [
    "# Question 1\n",
    "a=12\n",
    "b=5\n",
    "print(a+b)\n",
    "print(a-b)\n",
    "print(a*b)\n",
    "print(a/b)\n",
    "print(a%b)"
   ]
  },
  {
   "cell_type": "code",
   "execution_count": 3,
   "id": "77fd6576-846f-4146-abdc-fd7db0a2718a",
   "metadata": {},
   "outputs": [
    {
     "name": "stdout",
     "output_type": "stream",
     "text": [
      "20.0\n"
     ]
    }
   ],
   "source": [
    "# Question 2\n",
    "exp=(8+2)*(3-1)**2/2 \n",
    "print(exp)"
   ]
  },
  {
   "cell_type": "code",
   "execution_count": 4,
   "id": "f8cc8b08-1dd5-4920-a6b4-733c692a58d5",
   "metadata": {},
   "outputs": [
    {
     "name": "stdout",
     "output_type": "stream",
     "text": [
      "False\n",
      "True\n",
      "False\n"
     ]
    }
   ],
   "source": [
    "# Question 3\n",
    "p=True\n",
    "q=False\n",
    "r=True\n",
    "\n",
    "print(p and q)\n",
    "print(p or q)\n",
    "print( not r)\n"
   ]
  },
  {
   "cell_type": "code",
   "execution_count": 5,
   "id": "d3dd99ce-31c1-4a8b-82af-855582dd91f1",
   "metadata": {},
   "outputs": [
    {
     "name": "stdout",
     "output_type": "stream",
     "text": [
      "-13.5\n"
     ]
    }
   ],
   "source": [
    "\n",
    "# Question 4\n",
    "exp2=10+2*3/4-5**2\n",
    "# PEMDAS\n",
    "# 5**2 = 25\n",
    "# 2*3  =6\n",
    "# 2*3/4 =6/4 => 1.5\n",
    "# 10+1.5 = 11.5\n",
    "# 11.5-25 => -13.5\n",
    "print(exp2)"
   ]
  },
  {
   "cell_type": "code",
   "execution_count": 6,
   "id": "06472a89-e84a-433a-a679-d6644e221811",
   "metadata": {},
   "outputs": [
    {
     "name": "stdout",
     "output_type": "stream",
     "text": [
      "False\n",
      "True\n",
      "False\n",
      "2\n",
      "7\n",
      "-7\n"
     ]
    }
   ],
   "source": [
    "\n",
    "# Question 5\n",
    "x = True\n",
    "y = False\n",
    "\n",
    "print(x and y)  \n",
    "print(x or y)   \n",
    "print(not x)    \n",
    "\n",
    "\n",
    "op1 = 6  # 110\n",
    "op2 = 3  # 011 \n",
    "\n",
    "print(op1 & op2)   \n",
    "print(op1 | op2)  \n",
    "print(~op1) "
   ]
  },
  {
   "cell_type": "code",
   "execution_count": 9,
   "id": "addb3372-1447-42a2-a6e6-74643880a562",
   "metadata": {},
   "outputs": [
    {
     "name": "stdout",
     "output_type": "stream",
     "text": [
      "<class 'int'>\n",
      "<class 'float'>\n",
      "<class 'str'>\n",
      "<class 'bool'>\n"
     ]
    }
   ],
   "source": [
    "\n",
    "# Question 6\n",
    "v1=1\n",
    "v2=12.5\n",
    "v3=\"String\"\n",
    "v4=True\n",
    "# etc...\n",
    "print(type(v1))\n",
    "print(type(v2))\n",
    "print(type(v3))\n",
    "print(type(v4))"
   ]
  },
  {
   "cell_type": "code",
   "execution_count": 12,
   "id": "0107ed38-ce2d-4b60-b5df-18bce248557d",
   "metadata": {},
   "outputs": [
    {
     "name": "stdout",
     "output_type": "stream",
     "text": [
      "17 <class 'int'>\n",
      "12.0 <class 'float'>\n",
      ". <class 'str'>\n"
     ]
    }
   ],
   "source": [
    "\n",
    "# Question 7\n",
    "width=17\n",
    "height=12.0\n",
    "delimiter='.'\n",
    "\n",
    "print(width , type(width))\n",
    "print(height, type(height))\n",
    "print(delimiter, type(delimiter))"
   ]
  },
  {
   "cell_type": "code",
   "execution_count": 14,
   "id": "f175be44-616e-4202-a271-f68f82006300",
   "metadata": {},
   "outputs": [
    {
     "name": "stdout",
     "output_type": "stream",
     "text": [
      "<class 'int'>\n",
      "<class 'str'>\n",
      "<class 'bool'>\n",
      "<class 'float'>\n"
     ]
    }
   ],
   "source": [
    "# Question 8\n",
    "\n",
    "d1=10\n",
    "d2='10'\n",
    "d3=True\n",
    "d4=10.5\n",
    "print(type(d1))\n",
    "print(type(d2))\n",
    "print(type(d3))\n",
    "print(type(d4))"
   ]
  },
  {
   "cell_type": "code",
   "execution_count": 17,
   "id": "61b2490c-d0a7-4f48-a8ca-9ce2634b48e7",
   "metadata": {},
   "outputs": [
    {
     "name": "stdout",
     "output_type": "stream",
     "text": [
      "523.5987755982989\n"
     ]
    }
   ],
   "source": [
    "\n",
    "# Question 9\n",
    "# 4/3 pi r**3\n",
    "import math as m\n",
    "radius=5\n",
    "volume=(4/3)*(m.pi)*(radius**3)\n",
    "print(volume)"
   ]
  },
  {
   "cell_type": "code",
   "execution_count": null,
   "id": "fe41ec9d-2450-4b94-a6ee-f2beaad2a72b",
   "metadata": {},
   "outputs": [],
   "source": []
  }
 ],
 "metadata": {
  "kernelspec": {
   "display_name": "Python 3 (ipykernel)",
   "language": "python",
   "name": "python3"
  },
  "language_info": {
   "codemirror_mode": {
    "name": "ipython",
    "version": 3
   },
   "file_extension": ".py",
   "mimetype": "text/x-python",
   "name": "python",
   "nbconvert_exporter": "python",
   "pygments_lexer": "ipython3",
   "version": "3.11.7"
  }
 },
 "nbformat": 4,
 "nbformat_minor": 5
}
