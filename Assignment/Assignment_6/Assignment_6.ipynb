{
 "cells": [
  {
   "cell_type": "markdown",
   "id": "810ae157-7101-495c-b43c-add927787ad3",
   "metadata": {},
   "source": [
    "# 1. Addition of Two Numbers \r\n",
    "Write a function add_numbers(a, b) that returns the sum of two numbers. "
   ]
  },
  {
   "cell_type": "code",
   "execution_count": 3,
   "id": "6c6c5aa9-e8af-4279-8241-9329e4a7697a",
   "metadata": {},
   "outputs": [
    {
     "name": "stdout",
     "output_type": "stream",
     "text": [
      "Answer:  7\n"
     ]
    }
   ],
   "source": [
    "def add_numbers(a, b):\n",
    "    return a + b\n",
    "print(\"Answer: \",add_numbers(2,5))"
   ]
  },
  {
   "cell_type": "markdown",
   "id": "fd630061-b8e9-4c41-84bd-d048fd9593ac",
   "metadata": {},
   "source": [
    "# 2. Even or Odd \n",
    "Write a function is_even(num) that takes a number and returns \"Even\" if it’s even, \n",
    "otherwise \"Odd\". \n"
   ]
  },
  {
   "cell_type": "code",
   "execution_count": 5,
   "id": "00c49066-6593-4fda-b94e-02da6b623546",
   "metadata": {},
   "outputs": [
    {
     "name": "stdout",
     "output_type": "stream",
     "text": [
      "Output:  Odd\n"
     ]
    }
   ],
   "source": [
    "def is_even(num):\n",
    "    return \"Even\" if num % 2 == 0 else \"Odd\"\n",
    "print(\"Output: \",is_even(5))"
   ]
  },
  {
   "cell_type": "markdown",
   "id": "45b2343f-a61d-40ce-81dd-e752d0bde027",
   "metadata": {},
   "source": [
    "# 3. Square of a Number \n",
    " Write a function square(num) that returns the square of a given number. \n"
   ]
  },
  {
   "cell_type": "code",
   "execution_count": 6,
   "id": "b0725aa2-4d8c-4a43-9f28-e3361178d952",
   "metadata": {},
   "outputs": [
    {
     "name": "stdout",
     "output_type": "stream",
     "text": [
      "Output: 400\n"
     ]
    }
   ],
   "source": [
    "def square(num):\n",
    "    return num * num\n",
    "print(\"Output:\",square(20))"
   ]
  },
  {
   "cell_type": "markdown",
   "id": "84b76b18-a680-43a0-b5d3-d1ee5dbf2973",
   "metadata": {},
   "source": [
    "# 4. Find Maximum \n",
    "Write a function find_max(a, b, c) that returns the largest of three numbers. \n"
   ]
  },
  {
   "cell_type": "code",
   "execution_count": 7,
   "id": "f1d9ce59-bcf1-4ac4-a604-b8722781f5ab",
   "metadata": {},
   "outputs": [
    {
     "name": "stdout",
     "output_type": "stream",
     "text": [
      "Output:  6\n"
     ]
    }
   ],
   "source": [
    "def find_max(a, b, c):\n",
    "    return max(a, b, c)\n",
    "print(\"Output: \",find_max(2,4,6))"
   ]
  },
  {
   "cell_type": "markdown",
   "id": "da5a37ee-1761-4133-a566-6bd6b6896e64",
   "metadata": {},
   "source": [
    "# 5. Factorial \n",
    "Write a function factorial(n) to calculate the factorial of a given number using \n",
    "recursion. \n"
   ]
  },
  {
   "cell_type": "code",
   "execution_count": 8,
   "id": "40bbe343-234b-4de4-8e9d-3a9b2cde3818",
   "metadata": {},
   "outputs": [
    {
     "name": "stdout",
     "output_type": "stream",
     "text": [
      "Output:  3628800\n"
     ]
    }
   ],
   "source": [
    "def factorial(n):\n",
    "    if n == 0 or n == 1:\n",
    "        return 1\n",
    "    return n * factorial(n - 1)\n",
    "print(\"Output: \",factorial(10))"
   ]
  },
  {
   "cell_type": "markdown",
   "id": "9b505555-2418-4ecf-834c-7a2befce7fbc",
   "metadata": {},
   "source": [
    "# 6.Palindrome Checker \n",
    "Write a function is_palindrome(word) that checks whether a string is a palindrome. \n"
   ]
  },
  {
   "cell_type": "code",
   "execution_count": 10,
   "id": "2376a097-b304-47ba-9b10-c5d7ac7f8782",
   "metadata": {},
   "outputs": [
    {
     "name": "stdout",
     "output_type": "stream",
     "text": [
      "Output:  True\n"
     ]
    }
   ],
   "source": [
    "def is_palindrome(word):\n",
    "    word = word.lower()\n",
    "    return word == word[::-1]\n",
    "print(\"Output: \",is_palindrome(\"madam\"))"
   ]
  },
  {
   "cell_type": "markdown",
   "id": "2ac35718-5cef-482a-b271-66a9e0eb33e4",
   "metadata": {},
   "source": [
    "# 7. Fibonacci Series \n",
    "Write a function fibonacci(n) that returns the first n numbers in the Fibonacci \n",
    "sequence. \n"
   ]
  },
  {
   "cell_type": "code",
   "execution_count": null,
   "id": "5ec99acd-e762-47eb-9b4a-bf4cdac05107",
   "metadata": {},
   "outputs": [],
   "source": []
  },
  {
   "cell_type": "markdown",
   "id": "72da41af-ffee-4ed3-b71a-3c1f13b63c4c",
   "metadata": {},
   "source": [
    "# 8.  Count Vowels in String \n",
    "Write a function count_vowels(text) that counts and returns the number of vowels \n",
    "in a string. \n"
   ]
  },
  {
   "cell_type": "code",
   "execution_count": 11,
   "id": "a553121a-b93a-435a-af7e-3c16dfdbab62",
   "metadata": {},
   "outputs": [
    {
     "name": "stdout",
     "output_type": "stream",
     "text": [
      "Output:  2\n"
     ]
    }
   ],
   "source": [
    "def count_vowels(text):\n",
    "    vowels = \"aeiouAEIOU\"\n",
    "    count = 0\n",
    "    for char in text:\n",
    "        if char in vowels:\n",
    "            count += 1\n",
    "    return count\n",
    "print(\"Output: \",count_vowels(\"Eswar\"))"
   ]
  },
  {
   "cell_type": "markdown",
   "id": "f0656f61-da3e-4c3f-b513-e4c22e9157d3",
   "metadata": {},
   "source": [
    "# 9.Prime Number Check \n",
    "Write a function is_prime(n) that checks whether a given number is prime. \n"
   ]
  },
  {
   "cell_type": "code",
   "execution_count": 13,
   "id": "3114feb0-0e34-41e4-bd9c-b6eb4da846df",
   "metadata": {},
   "outputs": [
    {
     "name": "stdout",
     "output_type": "stream",
     "text": [
      "True\n"
     ]
    }
   ],
   "source": [
    "def is_prime(n):\n",
    "    if n <= 1:\n",
    "        return False\n",
    "    for i in range(2, n):\n",
    "        if n % i == 0:\n",
    "            return False\n",
    "    return True\n",
    "print(is_prime(2))"
   ]
  },
  {
   "cell_type": "markdown",
   "id": "4474c7e1-198f-46de-8ac7-72611131de15",
   "metadata": {},
   "source": [
    "# 10.  List Sum without Built-in sum() \n",
    "Write a function list_sum(numbers) that returns the sum of all elements in a list \n",
    "without using the built-in sum() function."
   ]
  },
  {
   "cell_type": "code",
   "execution_count": 12,
   "id": "79e7d1b9-68df-44fa-b054-7c9e6ea4749e",
   "metadata": {},
   "outputs": [
    {
     "name": "stdout",
     "output_type": "stream",
     "text": [
      "15\n"
     ]
    }
   ],
   "source": [
    "def list_sum(numbers):\n",
    "    total = 0\n",
    "    for num in numbers:\n",
    "        total += num\n",
    "    return total\n",
    "print(list_sum([1, 2, 3, 4, 5])) "
   ]
  },
  {
   "cell_type": "code",
   "execution_count": null,
   "id": "c4effafc-bf2e-4a4a-bc2f-992b33d9e186",
   "metadata": {},
   "outputs": [],
   "source": []
  }
 ],
 "metadata": {
  "kernelspec": {
   "display_name": "Python 3 (ipykernel)",
   "language": "python",
   "name": "python3"
  },
  "language_info": {
   "codemirror_mode": {
    "name": "ipython",
    "version": 3
   },
   "file_extension": ".py",
   "mimetype": "text/x-python",
   "name": "python",
   "nbconvert_exporter": "python",
   "pygments_lexer": "ipython3",
   "version": "3.11.7"
  }
 },
 "nbformat": 4,
 "nbformat_minor": 5
}
