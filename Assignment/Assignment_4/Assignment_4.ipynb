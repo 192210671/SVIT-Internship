{
 "cells": [
  {
   "cell_type": "code",
   "execution_count": 1,
   "id": "2dbd2cb4-4aa3-44cc-91dc-b192254e2ec9",
   "metadata": {},
   "outputs": [
    {
     "name": "stdout",
     "output_type": "stream",
     "text": [
      "svit svit svit\n"
     ]
    }
   ],
   "source": [
    "input_str = \"svit\"\n",
    "output = (input_str + \" \") * 3\n",
    "output = output.strip() \n",
    "print(output)\n"
   ]
  },
  {
   "cell_type": "code",
   "execution_count": 2,
   "id": "0073875c-a400-4322-b369-5461206bc76a",
   "metadata": {},
   "outputs": [
    {
     "name": "stdout",
     "output_type": "stream",
     "text": [
      "4\n",
      "4\n",
      "-1\n"
     ]
    }
   ],
   "source": [
    "s = \"hello world\"\n",
    "\n",
    "print(s.find('o'))   \n",
    "print(s.index('o'))  \n",
    "\n",
    "print(s.find('x'))   \n",
    "\n"
   ]
  },
  {
   "cell_type": "code",
   "execution_count": 3,
   "id": "4d291afe-a592-44e9-9ba1-e270abc10e6f",
   "metadata": {},
   "outputs": [
    {
     "name": "stdout",
     "output_type": "stream",
     "text": [
      "ram raj ram\n"
     ]
    }
   ],
   "source": [
    "s = \"Ram Raj Ram\"\n",
    "output = s.lower()\n",
    "print(output) \n"
   ]
  },
  {
   "cell_type": "code",
   "execution_count": 4,
   "id": "dbee15d0-b69c-4bd1-9f93-fd190736ddde",
   "metadata": {},
   "outputs": [
    {
     "name": "stdout",
     "output_type": "stream",
     "text": [
      "False\n",
      "s-v-i-t- -G-l-o-b-a-l- -s-o-l-u-t-i-o-n-s\n"
     ]
    }
   ],
   "source": [
    "s = \"travelling\"\n",
    "is_palindrome = s == s[::-1]\n",
    "print(is_palindrome) \n",
    "\n",
    "s = \"svit Global solutions\"\n",
    "output = '-'.join(list(s))\n",
    "print(output)\n",
    "\n",
    "\n"
   ]
  },
  {
   "cell_type": "code",
   "execution_count": 6,
   "id": "49098fb1-b1d5-4e46-ac28-00aa42ac5596",
   "metadata": {},
   "outputs": [
    {
     "name": "stdout",
     "output_type": "stream",
     "text": [
      "[1, 1, 'two-and-half', 2, 4, 5]\n",
      "['D', 'o', 'n', \"'\", 't', ' ', 'p', 'a', 'n', 'i', 'c', '!']\n"
     ]
    }
   ],
   "source": [
    "\n",
    "numbers = [1, 2, 3, 4, 5]\n",
    "\n",
    "numbers.remove(3)\n",
    "\n",
    "numbers.insert(0, 1)\n",
    "\n",
    "numbers.insert(2, \"two-and-half\")\n",
    "\n",
    "print(numbers)\n",
    "\n",
    "phrase = \"Don't panic!\"\n",
    "phrase_list = list(phrase)\n",
    "print(phrase_list)\n",
    "\n"
   ]
  },
  {
   "cell_type": "code",
   "execution_count": null,
   "id": "81b898b4-5d67-4a46-aef7-53fb0c801292",
   "metadata": {},
   "outputs": [],
   "source": [
    "phrase_list = list(\"Don't panic!\")\n",
    "\n",
    "for char in ['p', 'a', 'n', 'D']:\n",
    "    while char in phrase_list:\n",
    "        phrase_list.remove(char)\n",
    "\n",
    "# Extend the removed characters at the end\n",
    "phrase_list.extend(['p', 'a', 'n', 'D'])\n",
    "\n",
    "print(phrase_list)\n"
   ]
  }
 ],
 "metadata": {
  "kernelspec": {
   "display_name": "Python 3 (ipykernel)",
   "language": "python",
   "name": "python3"
  },
  "language_info": {
   "codemirror_mode": {
    "name": "ipython",
    "version": 3
   },
   "file_extension": ".py",
   "mimetype": "text/x-python",
   "name": "python",
   "nbconvert_exporter": "python",
   "pygments_lexer": "ipython3",
   "version": "3.13.5"
  }
 },
 "nbformat": 4,
 "nbformat_minor": 5
}
