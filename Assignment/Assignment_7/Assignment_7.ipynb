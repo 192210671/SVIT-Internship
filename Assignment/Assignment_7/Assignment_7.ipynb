{
 "cells": [
  {
   "cell_type": "markdown",
   "id": "9d3d5316-58b5-47b5-8fa1-ca610f9b9a51",
   "metadata": {},
   "source": [
    "# 1. Student Details\r\n",
    "Create a class Student with attributes name and age. Write a method to display\r\n",
    "the student details."
   ]
  },
  {
   "cell_type": "code",
   "execution_count": 1,
   "id": "61b92428-c357-4bcb-afe7-1ef9d2569b93",
   "metadata": {},
   "outputs": [
    {
     "name": "stdout",
     "output_type": "stream",
     "text": [
      "-----------------Details---------------\n",
      "\n",
      "Name:  Eswar\n",
      "Age:  20\n"
     ]
    }
   ],
   "source": [
    "class Student:\n",
    "    def __init__(self,name,age):\n",
    "        self.name=name\n",
    "        self.age=age\n",
    "    def display_info(self):\n",
    "        print(\"-----------------Details---------------\\n\")\n",
    "        print(\"Name: \",self.name)\n",
    "        print(\"Age: \",self.age)\n",
    "        \n",
    "s1=Student(\"Eswar\",20)\n",
    "s1.display_info()"
   ]
  },
  {
   "cell_type": "markdown",
   "id": "3f60a594-9f64-49a2-864f-c8dc1372f47a",
   "metadata": {},
   "source": [
    "# 2.Rectangle Area\r\n",
    "Create a class Rectangle with attributes length and breadth. Add a method to\r\n",
    "calculate and return the area.\r"
   ]
  },
  {
   "cell_type": "code",
   "execution_count": 4,
   "id": "7b0f4a37-6e06-4060-a47e-d5bab973c49f",
   "metadata": {},
   "outputs": [
    {
     "name": "stdout",
     "output_type": "stream",
     "text": [
      "Area of Rectangle:  451.0\n"
     ]
    }
   ],
   "source": [
    "class Rectangle:\n",
    "    def __init__(self,length,breadth):\n",
    "        self.length=length\n",
    "        self.breadth=breadth\n",
    "    def area(self):\n",
    "        return self.length*self.breadth\n",
    "R1=Rectangle(20.5,22)\n",
    "print(\"Area of Rectangle: \",R1.area())"
   ]
  },
  {
   "cell_type": "markdown",
   "id": "095e0533-8e40-47ec-8bed-5be0a1fee850",
   "metadata": {},
   "source": [
    "# 3. Car Information\r\n",
    "Create a class Car with attributes brand, model, and price. Write a method to\r\n",
    "return a formatted string about the car."
   ]
  },
  {
   "cell_type": "code",
   "execution_count": 5,
   "id": "3362ab0e-0cfb-4ceb-90be-bce2f84c407f",
   "metadata": {},
   "outputs": [
    {
     "name": "stdout",
     "output_type": "stream",
     "text": [
      "---------Details--------\n",
      " Brand : TATA ,Model: XUV , Price: 1200000 \n"
     ]
    }
   ],
   "source": [
    "class Car:\n",
    "    def __init__(self,brand,model,price):\n",
    "        self.brand=brand\n",
    "        self.model=model\n",
    "        self.price=price\n",
    "    def info(self):\n",
    "        return f\"Brand : {self.brand} ,Model: {self.model} , Price: {self.price} \"\n",
    "C1=Car(\"TATA\",\"XUV\",1200000)  \n",
    "print(\"---------Details--------\\n\",C1.info())"
   ]
  },
  {
   "cell_type": "markdown",
   "id": "8eacb35a-9286-484f-a875-b1bafd67a151",
   "metadata": {},
   "source": [
    "# 4. Bank Account\r\n",
    "Create a class BankAccount with attributes account_holder and balance. Add\r\n",
    "methods to deposit money, withdraw money, and check balance.\r"
   ]
  },
  {
   "cell_type": "code",
   "execution_count": 6,
   "id": "2a6567a9-ac5e-4ac3-b31e-7d31f9f243a1",
   "metadata": {},
   "outputs": [
    {
     "name": "stdout",
     "output_type": "stream",
     "text": [
      "\n",
      "===== Bank Menu =====\n",
      "1. Deposit Money\n",
      "2. Withdraw Money\n",
      "3. Check Balance\n",
      "n. Exit\n"
     ]
    },
    {
     "name": "stdin",
     "output_type": "stream",
     "text": [
      "Select an option:  1\n",
      "Enter amount to deposit:  1000\n"
     ]
    },
    {
     "name": "stdout",
     "output_type": "stream",
     "text": [
      "\n",
      "----------------Deposit------------\n",
      "\n",
      "Deposited ₹1000.0. Current Balance: ₹2000.0\n",
      "\n",
      "===== Bank Menu =====\n",
      "1. Deposit Money\n",
      "2. Withdraw Money\n",
      "3. Check Balance\n",
      "n. Exit\n"
     ]
    },
    {
     "name": "stdin",
     "output_type": "stream",
     "text": [
      "Select an option:  n\n"
     ]
    },
    {
     "name": "stdout",
     "output_type": "stream",
     "text": [
      "Thank you for banking with us! \n"
     ]
    }
   ],
   "source": [
    "class BankAccount:\n",
    "    def __init__(self,name,acc_number ,balance=0):\n",
    "        self.name=name\n",
    "        self.acc_number=acc_number\n",
    "        self.balance = balance\n",
    "    def deposit(self, amount):\n",
    "        if amount > 0:\n",
    "            self.balance += amount\n",
    "            print(f\"\\n----------------Deposit------------\\n\\nDeposited ₹{amount}. Current Balance: ₹{self.balance}\")\n",
    "        else:\n",
    "            print(\"Deposit amount must be in postive\")\n",
    "\n",
    "    def withdraw(self, amount):\n",
    "        if amount > 0:\n",
    "            if self.balance >= amount:\n",
    "                self.balance -= amount\n",
    "                print(f\"\\n---------------Withdraw-----------\\n\\nWithdrew ₹{amount}. Current Balance: ₹{self.balance}\")\n",
    "            else:\n",
    "                print(\"Insufficient balance!\")\n",
    "        else:\n",
    "            print(\"Withdrawal amount must be positive!\")\n",
    "\n",
    "    def check_balance(self):\n",
    "        print(f\"\\n---------------Details-----------------\\n\\nAccount Holder: {self.name}\\nAccount Number: {self.acc_number}\\nBalance: ₹{self.balance}\")\n",
    "\n",
    "\n",
    "acc1 = BankAccount(\"Eswar\",12345678, 1000)\n",
    "\n",
    "while True:\n",
    "    print(\"\\n===== Bank Menu =====\")\n",
    "    print(\"1. Deposit Money\")\n",
    "    print(\"2. Withdraw Money\")\n",
    "    print(\"3. Check Balance\")\n",
    "    print(\"n. Exit\")\n",
    "\n",
    "    choice = input(\"Select an option: \")\n",
    "\n",
    "    if choice == \"1\":\n",
    "        amount = float(input(\"Enter amount to deposit: \"))\n",
    "        acc1.deposit(amount)\n",
    "\n",
    "    elif choice == \"2\":\n",
    "        amount = float(input(\"Enter amount to withdraw: \"))\n",
    "        acc1.withdraw(amount)\n",
    "\n",
    "    elif choice == \"3\":\n",
    "        acc1.check_balance()\n",
    "\n",
    "    elif choice.lower() == \"n\":  \n",
    "        print(\"Thank you for banking with us! \")\n",
    "        break\n",
    "\n",
    "    else:\n",
    "        print(\" Invalid option! Please try again.\")\n",
    "    \n",
    "\n"
   ]
  },
  {
   "cell_type": "markdown",
   "id": "1cc81771-05e0-4f63-903d-2b84106bffe2",
   "metadata": {},
   "source": [
    "# 5. Book Details\r\n",
    "Create a class Book with attributes title, author, and price. Write a method to\r\n",
    "return book information"
   ]
  },
  {
   "cell_type": "code",
   "execution_count": 7,
   "id": "4dd38bc1-86b3-4358-a479-b5135fac0d28",
   "metadata": {},
   "outputs": [
    {
     "name": "stdout",
     "output_type": "stream",
     "text": [
      "---------Book Info-----------\n",
      "Title: Wings of Fire\n",
      "Author:; Abdul Kalam\n",
      "Price: 500\n"
     ]
    }
   ],
   "source": [
    "class Book:\n",
    "    def __init__(self,title,author,price):\n",
    "        self.title=title\n",
    "        self.author=author\n",
    "        self.price=price\n",
    "    def book_info(self):\n",
    "        print(f\"---------Book Info-----------\\nTitle: {self.title}\\nAuthor:; {self.author}\\nPrice: {self.price}\")\n",
    "B1=Book(\"Wings of Fire\",\"Abdul Kalam\" ,500)\n",
    "B1.book_info()\n",
    "                "
   ]
  },
  {
   "cell_type": "markdown",
   "id": "479201f9-8a2e-4e4e-94f9-92f5ea99ead0",
   "metadata": {},
   "source": [
    "# 6.Employee Salary Calculation\r\n",
    "Create a class Employee with attributes name, salary, and bonus. Add a method\r\n",
    "to calculate the total salary (salary + bonus)."
   ]
  },
  {
   "cell_type": "code",
   "execution_count": 9,
   "id": "41d66cbb-9233-4eab-9883-59a4ff5c99f2",
   "metadata": {},
   "outputs": [
    {
     "name": "stdout",
     "output_type": "stream",
     "text": [
      "Employee: Eswar, Total Salary: 45000\n"
     ]
    }
   ],
   "source": [
    "class Employee:\n",
    "    def __init__(self, name, salary, bonus):\n",
    "        self.name = name\n",
    "        self.salary = salary\n",
    "        self.bonus = bonus\n",
    "\n",
    "    def total_salary(self):\n",
    "        return self.salary + self.bonus\n",
    "\n",
    "\n",
    "\n",
    "emp1 = Employee(\"Eswar\", 40000, 5000)\n",
    "print(f\"Employee: {emp1.name}, Total Salary: {emp1.total_salary()}\")\n"
   ]
  },
  {
   "cell_type": "markdown",
   "id": "01e6ec34-8095-4421-a820-956ebfc33e38",
   "metadata": {},
   "source": [
    "# 7. Circle Properties\r\n",
    "Create a class Circle with attribute radius. Add methods to calculate area and\r\n",
    "circumference"
   ]
  },
  {
   "cell_type": "code",
   "execution_count": 10,
   "id": "24567ed8-5527-4cb4-a5b9-6e33d493a679",
   "metadata": {},
   "outputs": [
    {
     "name": "stdout",
     "output_type": "stream",
     "text": [
      "Circle Radius: 7\n",
      "Area: 153.94\n",
      "Circumference: 43.98\n"
     ]
    }
   ],
   "source": [
    "import math\n",
    "\n",
    "class Circle:\n",
    "    def __init__(self, radius):\n",
    "        self.radius = radius\n",
    "\n",
    "    def area(self):\n",
    "        return round(math.pi * self.radius ** 2, 2)\n",
    "\n",
    "    def circumference(self):\n",
    "        return round(2 * math.pi * self.radius, 2)\n",
    "\n",
    "c1 = Circle(7)\n",
    "print(f\"Circle Radius: {c1.radius}\")\n",
    "print(f\"Area: {c1.area()}\")\n",
    "print(f\"Circumference: {c1.circumference()}\")\n"
   ]
  },
  {
   "cell_type": "markdown",
   "id": "31b61432-5a82-454d-a7f5-364c088b400c",
   "metadata": {},
   "source": [
    "# 8.Laptop Specs\r\n",
    "Create a class Laptop with attributes brand, ram, storage. Add a method to\r\n",
    "compare two laptops and return which one has more RAM."
   ]
  },
  {
   "cell_type": "code",
   "execution_count": null,
   "id": "f73540fd-6aa2-4c64-8571-2b653c20f99b",
   "metadata": {},
   "outputs": [],
   "source": [
    "class Laptop:\n",
    "    def __init__(self, brand, ram, storage):\n",
    "        self.brand = brand\n",
    "        self.ram = ram\n",
    "        self.storage = storage\n",
    "\n",
    "    def compare_ram(self, other_laptop):\n",
    "        if self.ram > other_laptop.ram:\n",
    "            return f\"{self.brand} has more RAM ({self.ram}GB) than {other_laptop.brand} ({other_laptop.ram}GB)\"\n",
    "        elif self.ram < other_laptop.ram:\n",
    "            return f\"{other_laptop.brand} has more RAM ({other_laptop.ram}GB) than {self.brand} ({self.ram}GB)\"\n",
    "        else:\n",
    "            return f\"Both laptops have the same RAM ({self.ram}GB)\"\n",
    "\n",
    "l1 = Laptop(\"Dell\", 16, 512)\n",
    "l2 = Laptop(\"HP\", 8, 256)\n",
    "\n",
    "print(l1.compare_ram(l2))\n"
   ]
  }
 ],
 "metadata": {
  "kernelspec": {
   "display_name": "Python 3 (ipykernel)",
   "language": "python",
   "name": "python3"
  },
  "language_info": {
   "codemirror_mode": {
    "name": "ipython",
    "version": 3
   },
   "file_extension": ".py",
   "mimetype": "text/x-python",
   "name": "python",
   "nbconvert_exporter": "python",
   "pygments_lexer": "ipython3",
   "version": "3.11.7"
  }
 },
 "nbformat": 4,
 "nbformat_minor": 5
}
