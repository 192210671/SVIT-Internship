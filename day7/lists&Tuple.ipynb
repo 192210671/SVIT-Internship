{
 "cells": [
  {
   "cell_type": "code",
   "execution_count": 2,
   "id": "0be85e2a-5bb1-448a-99b9-8ec13bf2227d",
   "metadata": {},
   "outputs": [
    {
     "name": "stdout",
     "output_type": "stream",
     "text": [
      "<class 'list'>\n"
     ]
    }
   ],
   "source": [
    "# data structures\n",
    "list=[]\n",
    "print(type(list))"
   ]
  },
  {
   "cell_type": "code",
   "execution_count": 3,
   "id": "0ae02601-a0c9-492f-b318-8f95fce2fc0f",
   "metadata": {},
   "outputs": [
    {
     "name": "stdout",
     "output_type": "stream",
     "text": [
      "['salaar', 'RRR', 'OG', 'Kalki', 'Mirai']\n"
     ]
    }
   ],
   "source": [
    "movies=[\"salaar\",\"RRR\",\"OG\",\"Kalki\",\"Mirai\"]\n",
    "print(movies)"
   ]
  },
  {
   "cell_type": "code",
   "execution_count": 4,
   "id": "37adfe89-3c97-48ea-b952-e32791354047",
   "metadata": {},
   "outputs": [
    {
     "data": {
      "text/plain": [
       "5"
      ]
     },
     "execution_count": 4,
     "metadata": {},
     "output_type": "execute_result"
    }
   ],
   "source": [
    "len(movies)"
   ]
  },
  {
   "cell_type": "code",
   "execution_count": 7,
   "id": "f36fff8e-eb1f-4c74-bfa1-35d28acd7665",
   "metadata": {},
   "outputs": [
    {
     "name": "stdout",
     "output_type": "stream",
     "text": [
      "['Eswar']\n",
      "[1, 2, 3, 4]\n",
      "[True, False]\n"
     ]
    }
   ],
   "source": [
    "list_1=[\"Eswar\"]\n",
    "list_2=[1,2,3,4]\n",
    "list_3=[True,False]\n",
    "print(list_1)\n",
    "print(list_2)\n",
    "print(list_3)\n"
   ]
  },
  {
   "cell_type": "code",
   "execution_count": 8,
   "id": "04facdb6-188f-435a-97e1-f76348c2171f",
   "metadata": {},
   "outputs": [
    {
     "name": "stdout",
     "output_type": "stream",
     "text": [
      "['Eswar', 20, True]\n"
     ]
    }
   ],
   "source": [
    "list_4=[\"Eswar\",20,True]\n",
    "print(list_4)"
   ]
  },
  {
   "cell_type": "code",
   "execution_count": 9,
   "id": "326a0a61-345c-4df0-8de6-957985bf779a",
   "metadata": {},
   "outputs": [
    {
     "name": "stdout",
     "output_type": "stream",
     "text": [
      "apple\n"
     ]
    }
   ],
   "source": [
    "# Accessing the items from the list\n",
    "fruits=[\"apple\",\"organge\",\"banana\",\"grapes\"]\n",
    "print(fruits[0])"
   ]
  },
  {
   "cell_type": "code",
   "execution_count": 11,
   "id": "8fbd9f52-b25c-49aa-a56f-ca1de9a58889",
   "metadata": {},
   "outputs": [
    {
     "name": "stdout",
     "output_type": "stream",
     "text": [
      "['grapes', 'banana', 'organge', 'apple']\n"
     ]
    }
   ],
   "source": [
    "# reverse the list\n",
    "print(fruits[::-1])"
   ]
  },
  {
   "cell_type": "code",
   "execution_count": 13,
   "id": "1b1be531-40b6-4b71-9cce-647e79ce1606",
   "metadata": {},
   "outputs": [
    {
     "data": {
      "text/plain": [
       "['orange', 'banana', 'kiwi', 'mango', 'grapes']"
      ]
     },
     "execution_count": 13,
     "metadata": {},
     "output_type": "execute_result"
    }
   ],
   "source": [
    "fruits1=[\"apple\",\"orange\",\"banana\",\"kiwi\",\"mango\",\"grapes\",\"guva\",\"melon\"]\n",
    "fruits1[1:6]"
   ]
  },
  {
   "cell_type": "code",
   "execution_count": 16,
   "id": "6bcecf1b-c5dc-462d-bbe7-9dd2a12aadfd",
   "metadata": {},
   "outputs": [
    {
     "name": "stdout",
     "output_type": "stream",
     "text": [
      "['dragon', 'orange', 'banana', 'kiwi', 'mango', 'grapes', 'guva', 'melon']\n"
     ]
    }
   ],
   "source": [
    "fruits1[0]=\"dragon\"\n",
    "print(fruits1)"
   ]
  },
  {
   "cell_type": "code",
   "execution_count": 17,
   "id": "acadddd0-be45-498b-91e5-8d6254c50863",
   "metadata": {},
   "outputs": [],
   "source": [
    "fruits1=[\"apple\",\"orange\",\"banana\",\"kiwi\",\"mango\",\"grapes\",\"guva\",\"melon\"]\n",
    "fruits1[3]=\"coconut\""
   ]
  },
  {
   "cell_type": "code",
   "execution_count": 18,
   "id": "65b87cfb-a70b-4d31-9dd8-72c980b3344d",
   "metadata": {},
   "outputs": [
    {
     "data": {
      "text/plain": [
       "['apple', 'orange', 'banana', 'coconut', 'mango', 'grapes', 'guva', 'melon']"
      ]
     },
     "execution_count": 18,
     "metadata": {},
     "output_type": "execute_result"
    }
   ],
   "source": [
    "fruits1"
   ]
  },
  {
   "cell_type": "code",
   "execution_count": 28,
   "id": "1676f2f9-f9c7-4471-bdad-a7c4dbd06e45",
   "metadata": {},
   "outputs": [],
   "source": [
    "fruits1=[\"apple\",\"orange\",\"banana\",\"kiwi\",\"mango\",\"grapes\",\"guva\",\"melon\"]\n",
    "fruits1[1:3]=[\"plum\",\"plum2\"]"
   ]
  },
  {
   "cell_type": "code",
   "execution_count": 29,
   "id": "a5453442-d5d1-4366-9d54-e8e60ae3aaa1",
   "metadata": {},
   "outputs": [
    {
     "data": {
      "text/plain": [
       "['apple', 'plum', 'plum2', 'kiwi', 'mango', 'grapes', 'guva', 'melon']"
      ]
     },
     "execution_count": 29,
     "metadata": {},
     "output_type": "execute_result"
    }
   ],
   "source": [
    "fruits1"
   ]
  },
  {
   "cell_type": "code",
   "execution_count": 38,
   "id": "f9a166b1-7406-4c61-bd09-37ac0322b4fd",
   "metadata": {},
   "outputs": [
    {
     "name": "stdout",
     "output_type": "stream",
     "text": [
      "kovva\n",
      "5\n"
     ]
    }
   ],
   "source": [
    "sweets=[\"laddu\",\"kovva\",\"boondhi\",\"cake\",\"chocolate\"]\n",
    "print(sweets[1])\n",
    "print(len(sweets))"
   ]
  },
  {
   "cell_type": "code",
   "execution_count": 34,
   "id": "d05db90a-f57a-4193-8ed5-fc3f75e9cb9b",
   "metadata": {},
   "outputs": [
    {
     "name": "stdout",
     "output_type": "stream",
     "text": [
      "yes\n"
     ]
    }
   ],
   "source": [
    "if \"laddu\" in sweets:\n",
    "    print(\"yes\")"
   ]
  },
  {
   "cell_type": "code",
   "execution_count": 36,
   "id": "2710cdaa-686a-435a-83fe-8ac164b2e967",
   "metadata": {},
   "outputs": [
    {
     "name": "stdout",
     "output_type": "stream",
     "text": [
      "['laddu', 'dosa', 'idlli', 'cake', 'chocolate']\n"
     ]
    }
   ],
   "source": [
    "sweets[1:3]=[\"dosa\",\"idlli\"]\n",
    "print(sweets)"
   ]
  },
  {
   "cell_type": "code",
   "execution_count": 47,
   "id": "c07b796d-4284-4b7b-a97b-d07d4afbeaec",
   "metadata": {},
   "outputs": [
    {
     "name": "stdout",
     "output_type": "stream",
     "text": [
      "['boondhi', 'chocolate']\n",
      "['chocolate', 'boondhi']\n",
      "['chocolate', 'cake', 'boondhi', 'kovva', 'laddu']\n"
     ]
    }
   ],
   "source": [
    "sweets=[\"laddu\",\"kovva\",\"boondhi\",\"cake\",\"chocolate\"]\n",
    "\n",
    "print(sweets[-3::2])\n",
    "print(sweets[-1:-4:-2])\n",
    "\n",
    "print(sweets[::-1])\n"
   ]
  },
  {
   "cell_type": "code",
   "execution_count": 52,
   "id": "648baaee-346b-437e-aafa-c10f5c76ccdd",
   "metadata": {},
   "outputs": [
    {
     "name": "stdout",
     "output_type": "stream",
     "text": [
      "['boondhi', 'kaju barfi', 'kova', 'rasagulla', 'badham burfi', 'laddu']\n"
     ]
    }
   ],
   "source": [
    "# inserting = inserting at any postion in the list\n",
    "sweets=[\"kaju barfi\",\"kova\",\"rasagulla\",\"badham burfi\",\"laddu\"]\n",
    "\n",
    "sweets.insert(0,\"boondhi\")\n",
    "print(sweets)"
   ]
  },
  {
   "cell_type": "code",
   "execution_count": 54,
   "id": "5aff43c9-bc9e-48f2-bb73-8a2f31ab7f47",
   "metadata": {},
   "outputs": [
    {
     "name": "stdout",
     "output_type": "stream",
     "text": [
      "['boondhi', 'kaju barfi', 'kova', 'rasagulla', 'badham burfi', 'laddu', 'cool cake', 'cool cake']\n"
     ]
    }
   ],
   "source": [
    "# append = adding the element at the end\n",
    "sweets.append(\"cool cake\")\n",
    "print(sweets)"
   ]
  },
  {
   "cell_type": "code",
   "execution_count": 56,
   "id": "e1f7a592-692a-4df5-b860-776b3c3569eb",
   "metadata": {},
   "outputs": [
    {
     "name": "stdout",
     "output_type": "stream",
     "text": [
      "['sahoo', 'mirai', 'kalki']\n"
     ]
    }
   ],
   "source": [
    "movies=[\"sahoo\",\"mirai\"]\n",
    "movies.append(\"kalki\")\n",
    "print(movies)"
   ]
  },
  {
   "cell_type": "code",
   "execution_count": 67,
   "id": "b975880c-3448-494e-8a81-41718dc80f76",
   "metadata": {},
   "outputs": [],
   "source": [
    "# extend = adding the another list\n",
    "directors=[\"nola\",\"rajamouli\"]\n",
    "movies.extend(directors)\n"
   ]
  },
  {
   "cell_type": "code",
   "execution_count": 68,
   "id": "0fd82830-aece-48fd-b9d2-e6b565ebdf8e",
   "metadata": {},
   "outputs": [
    {
     "name": "stdout",
     "output_type": "stream",
     "text": [
      "['sahoo', 'mirai', 'kalki', 'nola', 'rajamouli', 'nola', 'rajamouli', 'nola', 'rajamouli', 'check', 'nola', 'rajamouli', 'nola', 'rajamouli', 'nola', 'rajamouli', 'nola', 'rajamouli']\n"
     ]
    }
   ],
   "source": [
    "print(movies)"
   ]
  },
  {
   "cell_type": "code",
   "execution_count": 72,
   "id": "a621e3e9-52e3-4bd5-a5dc-f75f5d82b6f9",
   "metadata": {},
   "outputs": [
    {
     "name": "stdout",
     "output_type": "stream",
     "text": [
      "['banana', 'grape']\n"
     ]
    }
   ],
   "source": [
    "fruits=[\"coffee\",\"banana\",\"grape\"]\n",
    "fruits.remove(\"coffee\")\n",
    "print(fruits)"
   ]
  },
  {
   "cell_type": "code",
   "execution_count": 76,
   "id": "1957387a-62dc-474c-b11b-f5cf92f7b6f8",
   "metadata": {},
   "outputs": [
    {
     "ename": "NameError",
     "evalue": "name 'fruits' is not defined",
     "output_type": "error",
     "traceback": [
      "\u001b[1;31m---------------------------------------------------------------------------\u001b[0m",
      "\u001b[1;31mNameError\u001b[0m                                 Traceback (most recent call last)",
      "Cell \u001b[1;32mIn[76], line 1\u001b[0m\n\u001b[1;32m----> 1\u001b[0m \u001b[43mfruits\u001b[49m\u001b[38;5;241m.\u001b[39mpop(\u001b[38;5;241m1\u001b[39m)\n",
      "\u001b[1;31mNameError\u001b[0m: name 'fruits' is not defined"
     ]
    }
   ],
   "source": [
    "fruits.pop(1)"
   ]
  },
  {
   "cell_type": "code",
   "execution_count": 75,
   "id": "a58147ad-41c3-4af6-83d5-424d095e4f08",
   "metadata": {},
   "outputs": [
    {
     "ename": "NameError",
     "evalue": "name 'fruits' is not defined",
     "output_type": "error",
     "traceback": [
      "\u001b[1;31m---------------------------------------------------------------------------\u001b[0m",
      "\u001b[1;31mNameError\u001b[0m                                 Traceback (most recent call last)",
      "Cell \u001b[1;32mIn[75], line 1\u001b[0m\n\u001b[1;32m----> 1\u001b[0m \u001b[38;5;28;01mdel\u001b[39;00m \u001b[43mfruits\u001b[49m\n",
      "\u001b[1;31mNameError\u001b[0m: name 'fruits' is not defined"
     ]
    }
   ],
   "source": []
  },
  {
   "cell_type": "code",
   "execution_count": 78,
   "id": "5d3cdd53-46af-4e79-b5c0-972748c79e73",
   "metadata": {},
   "outputs": [],
   "source": [
    "fruits=[\"coffee\",\"banana\",\"grape\"]"
   ]
  },
  {
   "cell_type": "code",
   "execution_count": 82,
   "id": "069333c6-832c-4c6c-8af4-e255fcd5e049",
   "metadata": {},
   "outputs": [
    {
     "name": "stdout",
     "output_type": "stream",
     "text": [
      "[]\n"
     ]
    }
   ],
   "source": [
    "del fruits[0]\n",
    "print(fruits)"
   ]
  },
  {
   "cell_type": "code",
   "execution_count": 85,
   "id": "5288547e-831e-4258-8495-45c7ab773738",
   "metadata": {},
   "outputs": [
    {
     "name": "stdout",
     "output_type": "stream",
     "text": [
      "banana\n"
     ]
    }
   ],
   "source": [
    "fruits=[\"coffee\",\"banana\",\"grape\"]\n",
    "check=fruits.pop(1)\n",
    "print(check)"
   ]
  },
  {
   "cell_type": "code",
   "execution_count": 95,
   "id": "c6cd6cf6-6fd4-4b93-9c0c-cd55479da08b",
   "metadata": {},
   "outputs": [
    {
     "name": "stdout",
     "output_type": "stream",
     "text": [
      "['m-y-', '-n-a-m-e-', '-i-s-', '-e-s-w-a-r']\n"
     ]
    }
   ],
   "source": [
    "print(\"-\".join(\"my name is eswar\").split(\" \"))"
   ]
  },
  {
   "cell_type": "markdown",
   "id": "97027e90-102c-40c8-9ffc-df63adf4287d",
   "metadata": {},
   "source": [
    "## Tuples\n"
   ]
  },
  {
   "cell_type": "code",
   "execution_count": 91,
   "id": "1b181481-18fb-4ea6-9ac8-a1baf280e1dd",
   "metadata": {},
   "outputs": [
    {
     "name": "stdout",
     "output_type": "stream",
     "text": [
      "<class 'tuple'>\n"
     ]
    }
   ],
   "source": [
    "t1=()\n",
    "print(type(t1))"
   ]
  },
  {
   "cell_type": "code",
   "execution_count": 99,
   "id": "5f597601-3c50-478b-adfb-8dfef1f584d0",
   "metadata": {},
   "outputs": [
    {
     "name": "stdout",
     "output_type": "stream",
     "text": [
      "<class 'tuple'>\n"
     ]
    }
   ],
   "source": [
    "t2=(\"Eswar\",\"eswar\")\n",
    "\n",
    "# for single value is was showing the corresponding data type\n",
    "# if make it as tuple , place the separator (,)\n",
    "\n",
    "print(type(t2))"
   ]
  },
  {
   "cell_type": "code",
   "execution_count": 112,
   "id": "e9824f3d-0999-47ac-95be-af43b851377e",
   "metadata": {},
   "outputs": [
    {
     "name": "stdout",
     "output_type": "stream",
     "text": [
      "coffee\n",
      "banana\n",
      "grape\n",
      "\n",
      "grape\n",
      "banana\n",
      "coffee\n",
      "grape\n",
      "('grape', 'banana', 'coffee')\n"
     ]
    }
   ],
   "source": [
    "fruits=(\"coffee\",\"banana\",\"grape\")\n",
    "# pos index\n",
    "for i in range(len(fruits)):\n",
    "    print(fruits[i])\n",
    "\n",
    "print()\n",
    "# neg index\n",
    "c=-1\n",
    "for i in range(len(fruits)):\n",
    "    print(fruits[c])\n",
    "    c+=-1\n",
    "\n",
    "print(fruits[-1])\n",
    "\n",
    "print(fruits[::-1])"
   ]
  },
  {
   "cell_type": "code",
   "execution_count": null,
   "id": "2a4bdfd8-95ad-45c7-9c57-381ceef6c8ae",
   "metadata": {},
   "outputs": [],
   "source": []
  },
  {
   "cell_type": "code",
   "execution_count": null,
   "id": "657ac14e-26fb-44f1-8c05-f08f2d0e1a92",
   "metadata": {},
   "outputs": [],
   "source": []
  }
 ],
 "metadata": {
  "kernelspec": {
   "display_name": "Python 3 (ipykernel)",
   "language": "python",
   "name": "python3"
  },
  "language_info": {
   "codemirror_mode": {
    "name": "ipython",
    "version": 3
   },
   "file_extension": ".py",
   "mimetype": "text/x-python",
   "name": "python",
   "nbconvert_exporter": "python",
   "pygments_lexer": "ipython3",
   "version": "3.11.7"
  }
 },
 "nbformat": 4,
 "nbformat_minor": 5
}
