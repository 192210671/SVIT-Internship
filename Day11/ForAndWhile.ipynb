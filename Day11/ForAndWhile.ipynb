{
 "cells": [
  {
   "cell_type": "code",
   "execution_count": 2,
   "id": "23e7c9db-6ef4-4c26-9f26-06145a8b0412",
   "metadata": {},
   "outputs": [
    {
     "name": "stdout",
     "output_type": "stream",
     "text": [
      "20 10\n"
     ]
    }
   ],
   "source": [
    "a=10\n",
    "b=20\n",
    "a,b=b,a\n",
    "print(a,b)"
   ]
  },
  {
   "cell_type": "markdown",
   "id": "54b95e51-c3ee-4a17-b1ae-e9bded469bd4",
   "metadata": {},
   "source": [
    "# Looping Statements\n",
    "- While Loop\n",
    "- For Loop\n",
    "\n",
    "**While Loop**: it  will check the condition is true\n",
    "= 1\n"
   ]
  },
  {
   "cell_type": "code",
   "execution_count": 5,
   "id": "f9310f90-53f0-45ed-8308-b0d41ced3f81",
   "metadata": {},
   "outputs": [
    {
     "name": "stdout",
     "output_type": "stream",
     "text": [
      "count is : 1\n",
      "count is : 2\n",
      "count is : 3\n",
      "count is : 4\n",
      "count is : 5\n",
      "count is : 6\n",
      "count is : 7\n",
      "count is : 8\n",
      "count is : 9\n",
      "count is : 10\n",
      "count is : 11\n",
      "count is : 12\n",
      "count is : 13\n",
      "count is : 14\n",
      "count is : 15\n",
      "count is : 16\n",
      "count is : 17\n",
      "count is : 18\n",
      "count is : 19\n",
      "count is : 20\n",
      "count is : 21\n",
      "count is : 22\n",
      "count is : 23\n",
      "count is : 24\n",
      "count is : 25\n",
      "count is : 26\n",
      "count is : 27\n",
      "count is : 28\n",
      "count is : 29\n",
      "count is : 30\n"
     ]
    }
   ],
   "source": [
    "var=1\n",
    "while var<=30:\n",
    "    print(\"count is :\",var)\n",
    "    var+=1"
   ]
  },
  {
   "cell_type": "code",
   "execution_count": 8,
   "id": "7e1b9d17-7b19-4059-9314-d116b16b8536",
   "metadata": {},
   "outputs": [
    {
     "name": "stdout",
     "output_type": "stream",
     "text": [
      "1\n",
      "3\n",
      "5\n",
      "7\n",
      "9\n",
      "11\n",
      "13\n",
      "15\n"
     ]
    }
   ],
   "source": [
    "var1=1\n",
    "while var1<=15:\n",
    "    if var1%2!=0:\n",
    "        print(var1)\n",
    "    var1+=1\n"
   ]
  },
  {
   "cell_type": "code",
   "execution_count": 11,
   "id": "4ca148f6-ec92-4266-a542-b0949256c109",
   "metadata": {},
   "outputs": [
    {
     "name": "stdout",
     "output_type": "stream",
     "text": [
      "2\n",
      "4\n",
      "6\n",
      "8\n",
      "10\n",
      "12\n",
      "14\n"
     ]
    }
   ],
   "source": [
    "var1=1\n",
    "while var1<=15:\n",
    "    if var1%2==0:\n",
    "        print(var1)\n",
    "    var1+=1\n"
   ]
  },
  {
   "cell_type": "code",
   "execution_count": 13,
   "id": "d68a06bf-dae8-4c57-9b1c-4d666e28bc92",
   "metadata": {},
   "outputs": [
    {
     "name": "stdout",
     "output_type": "stream",
     "text": [
      "Empty\n"
     ]
    }
   ],
   "source": [
    "# money=100, -20\n",
    "money=100\n",
    "while money>0:\n",
    "    money-=20\n",
    "\n",
    "if money==0:\n",
    "    print(\"Empty\")\n",
    "else:\n",
    "    print(\"you have some money\",money)\n"
   ]
  },
  {
   "cell_type": "code",
   "execution_count": 2,
   "id": "c7ae9b7d-7f52-4bb2-bde9-b3a29a1130d9",
   "metadata": {},
   "outputs": [
    {
     "name": "stdin",
     "output_type": "stream",
     "text": [
      "Enter the Password:  eswa\n"
     ]
    },
    {
     "name": "stdout",
     "output_type": "stream",
     "text": [
      "Please Try Again\n"
     ]
    },
    {
     "name": "stdin",
     "output_type": "stream",
     "text": [
      "Enter the Password:  eswar\n"
     ]
    },
    {
     "name": "stdout",
     "output_type": "stream",
     "text": [
      "Login Successfully\n"
     ]
    }
   ],
   "source": [
    "password = \"eswar\"\n",
    "\n",
    "while True:\n",
    "    check = input(\"Enter the Password: \")\n",
    "    if check == password:\n",
    "        print(\"Login Successfully\")\n",
    "        break\n",
    "    else:\n",
    "        print(\"Please Try Again\")\n"
   ]
  },
  {
   "cell_type": "code",
   "execution_count": 5,
   "id": "a1510ce1-e1d9-403b-bf5a-61c9f4666b9e",
   "metadata": {},
   "outputs": [
    {
     "name": "stdout",
     "output_type": "stream",
     "text": [
      "charge:  0\n",
      "charge:  1\n",
      "charge:  2\n",
      "charge:  3\n",
      "charge:  4\n",
      "charge:  5\n",
      "charge:  6\n",
      "charge:  7\n",
      "charge:  8\n",
      "charge:  9\n",
      "charge:  10\n",
      "charge:  11\n",
      "charge:  12\n",
      "charge:  13\n",
      "charge:  14\n",
      "charge:  15\n",
      "charge:  16\n",
      "charge:  17\n",
      "charge:  18\n",
      "charge:  19\n",
      "charge:  20\n",
      "charge:  21\n",
      "charge:  22\n",
      "charge:  23\n",
      "charge:  24\n",
      "charge:  25\n",
      "charge:  26\n",
      "charge:  27\n",
      "charge:  28\n",
      "charge:  29\n",
      "charge:  30\n",
      "charge:  31\n",
      "charge:  32\n",
      "charge:  33\n",
      "charge:  34\n",
      "charge:  35\n",
      "charge:  36\n",
      "charge:  37\n",
      "charge:  38\n",
      "charge:  39\n",
      "charge:  40\n",
      "charge:  41\n",
      "charge:  42\n",
      "charge:  43\n",
      "charge:  44\n",
      "charge:  45\n",
      "charge:  46\n",
      "charge:  47\n",
      "charge:  48\n",
      "charge:  49\n",
      "charge:  50\n",
      "charge:  51\n",
      "charge:  52\n",
      "charge:  53\n",
      "charge:  54\n",
      "charge:  55\n",
      "charge:  56\n",
      "charge:  57\n",
      "charge:  58\n",
      "charge:  59\n",
      "charge:  60\n",
      "charge:  61\n",
      "charge:  62\n",
      "charge:  63\n",
      "charge:  64\n",
      "charge:  65\n",
      "charge:  66\n",
      "charge:  67\n",
      "charge:  68\n",
      "charge:  69\n",
      "charge:  70\n",
      "charge:  71\n",
      "charge:  72\n",
      "charge:  73\n",
      "charge:  74\n",
      "charge:  75\n",
      "charge:  76\n",
      "charge:  77\n",
      "charge:  78\n",
      "charge:  79\n",
      "charge:  80\n",
      "charge:  81\n",
      "charge:  82\n",
      "charge:  83\n",
      "charge:  84\n",
      "charge:  85\n",
      "charge:  86\n",
      "charge:  87\n",
      "charge:  88\n",
      "charge:  89\n",
      "charge:  90\n",
      "charge:  91\n",
      "charge:  92\n",
      "charge:  93\n",
      "charge:  94\n",
      "charge:  95\n",
      "charge:  96\n",
      "charge:  97\n",
      "charge:  98\n",
      "charge:  99\n",
      "Battery fully charged\n"
     ]
    }
   ],
   "source": [
    "#mobile charge=0\n",
    "#mobile charge=100\n",
    "\n",
    "initial=0\n",
    "while initial!=100:\n",
    "    print(\"charge: \",initial)\n",
    "    initial+=1\n",
    "    if initial==100:\n",
    "        print(\"Battery fully charged\")\n",
    "        break\n",
    "        "
   ]
  },
  {
   "cell_type": "code",
   "execution_count": 9,
   "id": "fcfbd9d8-2a07-44a2-acf6-17398daf9e76",
   "metadata": {},
   "outputs": [
    {
     "name": "stdout",
     "output_type": "stream",
     "text": [
      "1\n",
      "2\n",
      "3\n",
      "4\n",
      "value skipped\n",
      "6\n",
      "7\n",
      "8\n",
      "9\n",
      "10\n"
     ]
    }
   ],
   "source": [
    "# continue = skipping the iteration\n",
    "var1=0\n",
    "while var1<10:\n",
    "    var1+=1\n",
    "    if var1==5:\n",
    "        print(\"value skipped\")\n",
    "        continue\n",
    "    print(var1)    \n"
   ]
  },
  {
   "cell_type": "code",
   "execution_count": 5,
   "id": "53ca7154-d0e0-43f7-9e17-382ebb2bfb2e",
   "metadata": {},
   "outputs": [
    {
     "name": "stdin",
     "output_type": "stream",
     "text": [
      "Enter the Number:  153\n"
     ]
    },
    {
     "name": "stdout",
     "output_type": "stream",
     "text": [
      "Armstrong Number\n"
     ]
    }
   ],
   "source": [
    "num=int(input(\"Enter the Number: \"))\n",
    "temp=num\n",
    "def getDigits(temp):\n",
    "    count=0\n",
    "    while temp>0:\n",
    "       \n",
    "        count+=1\n",
    "        temp=temp//10\n",
    "        \n",
    "        \n",
    "    return count    \n",
    "count=getDigits(temp)\n",
    "sum=0\n",
    "while temp>0:\n",
    "    r=temp%10\n",
    "    sum+=r**count\n",
    "    temp=temp//10\n",
    "\n",
    "if sum==num:\n",
    "    print(\"Armstrong Number\")\n",
    "else:\n",
    "    print(\"Not Armstrong Number\")\n",
    "    "
   ]
  },
  {
   "cell_type": "code",
   "execution_count": null,
   "id": "a9ffaa7d-8a86-485d-9244-aac313c7fcef",
   "metadata": {},
   "outputs": [],
   "source": []
  }
 ],
 "metadata": {
  "kernelspec": {
   "display_name": "Python 3 (ipykernel)",
   "language": "python",
   "name": "python3"
  },
  "language_info": {
   "codemirror_mode": {
    "name": "ipython",
    "version": 3
   },
   "file_extension": ".py",
   "mimetype": "text/x-python",
   "name": "python",
   "nbconvert_exporter": "python",
   "pygments_lexer": "ipython3",
   "version": "3.11.7"
  }
 },
 "nbformat": 4,
 "nbformat_minor": 5
}
