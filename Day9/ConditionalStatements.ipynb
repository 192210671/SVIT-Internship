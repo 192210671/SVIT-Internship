{
 "cells": [
  {
   "cell_type": "markdown",
   "id": "55880199-a47a-4fae-9816-790077b73db2",
   "metadata": {},
   "source": [
    "# Conditional Statements\n",
    "- if\n",
    "- if else\n",
    "- else if ladder\n",
    "- nested if"
   ]
  },
  {
   "cell_type": "code",
   "execution_count": 4,
   "id": "ba9a0f3a-7794-441d-ba44-fa0121670f02",
   "metadata": {},
   "outputs": [
    {
     "name": "stdin",
     "output_type": "stream",
     "text": [
      "Enter the Age:  19\n"
     ]
    },
    {
     "name": "stdout",
     "output_type": "stream",
     "text": [
      "eligible for vote\n"
     ]
    }
   ],
   "source": [
    "age=int(input(\"Enter the Age: \"))\n",
    "if age>=18:\n",
    "    print(\"eligible for vote\")\n",
    "else:\n",
    "    print(\"not eligible for vote\")"
   ]
  },
  {
   "cell_type": "code",
   "execution_count": 12,
   "id": "c74b7835-ebc7-441a-8f24-f5594713e7b7",
   "metadata": {},
   "outputs": [
    {
     "name": "stdin",
     "output_type": "stream",
     "text": [
      "Enter the Marks out of 100):  100\n"
     ]
    },
    {
     "name": "stdout",
     "output_type": "stream",
     "text": [
      "Grade A\n"
     ]
    }
   ],
   "source": [
    "marks = int(input(\"Enter the Marks out of 100): \"))\n",
    "\n",
    "if marks >= 90:\n",
    "    print(\"Grade A\")\n",
    "elif marks >= 75:\n",
    "    print(\"Grade B\")\n",
    "elif marks >= 60:\n",
    "    print(\"Grade C\")  \n",
    "else:\n",
    "    print(\"Fail\")"
   ]
  },
  {
   "cell_type": "markdown",
   "id": "0344f1e5-466e-44a8-b34b-dd6d31d83643",
   "metadata": {},
   "source": [
    "# question\n",
    "\n",
    "## marks 90 and above \"A\",75-89 \"B\",60-74 \"C,Below 60 \"f\""
   ]
  },
  {
   "cell_type": "code",
   "execution_count": 14,
   "id": "303d65b5-a514-4f1f-a7b6-ca269f0e9df4",
   "metadata": {},
   "outputs": [
    {
     "name": "stdin",
     "output_type": "stream",
     "text": [
      "Enter the marks:  58\n"
     ]
    },
    {
     "name": "stdout",
     "output_type": "stream",
     "text": [
      "Fail, Thank you\n"
     ]
    }
   ],
   "source": [
    "marks=int(input(\"Enter the marks: \"))\n",
    "if marks>=90:\n",
    "    print(\"Grade A\")\n",
    "elif marks<=89 and marks>=75:\n",
    "    print(\"Garde B\")\n",
    "elif marks<=74 and marks>=60:\n",
    "    print(\"Garde C\")  \n",
    "else:\n",
    "    print(\"Fail, Thank you\")"
   ]
  },
  {
   "cell_type": "code",
   "execution_count": 15,
   "id": "13daf624-e4fb-47fe-b774-ecb006b40f5b",
   "metadata": {},
   "outputs": [
    {
     "name": "stdout",
     "output_type": "stream",
     "text": [
      "0 2 4 6 8 10 12 14 16 18 20 22 24 26 28 30 32 34 36 38 40 42 44 46 48 50 52 54 56 58 60 62 64 66 68 70 72 74 76 78 80 82 84 86 88 90 92 94 96 98 100 "
     ]
    }
   ],
   "source": [
    "for i in range(0,101):\n",
    "    if i%2==0:\n",
    "        print(i,end=\" \")"
   ]
  },
  {
   "cell_type": "code",
   "execution_count": 16,
   "id": "05b4b514-c0c8-43d7-a115-f77ed574c849",
   "metadata": {},
   "outputs": [
    {
     "name": "stdout",
     "output_type": "stream",
     "text": [
      "odd\n"
     ]
    }
   ],
   "source": [
    "num=21\n",
    "val=[\"even\",\"odd\"]\n",
    "print(val[num%2])"
   ]
  },
  {
   "cell_type": "code",
   "execution_count": 18,
   "id": "065f852d-ee6a-46b4-a064-b20fdc998826",
   "metadata": {},
   "outputs": [
    {
     "name": "stdin",
     "output_type": "stream",
     "text": [
      "Enter the Year:  2024\n"
     ]
    },
    {
     "name": "stdout",
     "output_type": "stream",
     "text": [
      "Leap Year\n"
     ]
    }
   ],
   "source": [
    "year=int(input(\"Enter the Year: \"))\n",
    "\n",
    "if year%400==0:\n",
    "    print(\"Leap year\")\n",
    "elif year%100==0:\n",
    "    print(\"Non Leap Year\")\n",
    "elif year%4==0:\n",
    "    print(\"Leap Year\")\n",
    "else:\n",
    "    print(\"Non Leap year\")"
   ]
  },
  {
   "cell_type": "code",
   "execution_count": 20,
   "id": "1f93f977-ee78-444e-ab99-4489431a3014",
   "metadata": {},
   "outputs": [
    {
     "name": "stdin",
     "output_type": "stream",
     "text": [
      "Enter the Age:  80\n"
     ]
    },
    {
     "name": "stdout",
     "output_type": "stream",
     "text": [
      "Senior Citizen\n"
     ]
    }
   ],
   "source": [
    "age=int(input(\"Enter the Age: \"))\n",
    "\n",
    "try:\n",
    "    if age>=0 and age<=12:\n",
    "        print(\"Childhood\")\n",
    "    elif age>=13 and age<=19:\n",
    "        print(\"Teenager\")\n",
    "    elif age>=20 and age<=59:\n",
    "        print(\"Adulthood\")\n",
    "    else:\n",
    "        print(\"Senior Citizen\")\n",
    "catch(e):\n"
   ]
  },
  {
   "cell_type": "code",
   "execution_count": 23,
   "id": "8378b855-8cb4-48fa-b0f4-a9e86d25167a",
   "metadata": {},
   "outputs": [
    {
     "name": "stdin",
     "output_type": "stream",
     "text": [
      "Enter the signal:  red\n"
     ]
    },
    {
     "name": "stdout",
     "output_type": "stream",
     "text": [
      "Please, Stop\n"
     ]
    }
   ],
   "source": [
    "signal = input(\"Enter the signal: \").lower()\n",
    "\n",
    "if signal == \"red\":\n",
    "    print(\"Please, Stop\")\n",
    "elif signal == \"yellow\":\n",
    "    print(\"Wait for some time\")\n",
    "elif signal == \"green\":\n",
    "    print(\"You can go now\")\n",
    "else:\n",
    "    print(\"Invalid signal\")\n"
   ]
  },
  {
   "cell_type": "code",
   "execution_count": 30,
   "id": "ccd2bf50-49f4-45e5-a438-7e8dfebfcf25",
   "metadata": {},
   "outputs": [
    {
     "name": "stdin",
     "output_type": "stream",
     "text": [
      "Enter the number to check pos/neg.. 0\n"
     ]
    },
    {
     "name": "stdout",
     "output_type": "stream",
     "text": [
      "0  is neither positive nor negative\n"
     ]
    }
   ],
   "source": [
    "num=int(input(\"Enter the number to check pos/neg..\"))\n",
    "if num==0:\n",
    "    print(num ,\" is neither positive nor negative\")\n",
    "elif num<0:\n",
    "    print(num, \" is negative\")\n",
    "else:\n",
    "    print(num,\" is positive\")"
   ]
  },
  {
   "cell_type": "code",
   "execution_count": 35,
   "id": "2cc8cd00-e369-4326-8bd4-4cca3fe56850",
   "metadata": {},
   "outputs": [
    {
     "name": "stdin",
     "output_type": "stream",
     "text": [
      "Enter the Number:  -2\n"
     ]
    },
    {
     "name": "stdout",
     "output_type": "stream",
     "text": [
      "-2 not satisfied\n"
     ]
    }
   ],
   "source": [
    "# prime number\n",
    "num=int(input(\"Enter the Number: \"))\n",
    "count=0;\n",
    "if num<0:\n",
    "    print(num, \"not satisfied\")\n",
    "elif num==1:\n",
    "    print(num,\" is neither prime nor composite\")\n",
    "else:    \n",
    "    for i in range(2,num+1):\n",
    "        if num%i==0:\n",
    "            count+=1\n",
    "    if count==2:\n",
    "        print(num, \" Prime Number\")\n",
    "    else:\n",
    "        print(num, \"is not prime number\")\n"
   ]
  },
  {
   "cell_type": "code",
   "execution_count": null,
   "id": "aa5e61f3-6b82-4f61-a52a-7909802e4fb9",
   "metadata": {},
   "outputs": [],
   "source": []
  }
 ],
 "metadata": {
  "kernelspec": {
   "display_name": "Python 3 (ipykernel)",
   "language": "python",
   "name": "python3"
  },
  "language_info": {
   "codemirror_mode": {
    "name": "ipython",
    "version": 3
   },
   "file_extension": ".py",
   "mimetype": "text/x-python",
   "name": "python",
   "nbconvert_exporter": "python",
   "pygments_lexer": "ipython3",
   "version": "3.11.7"
  }
 },
 "nbformat": 4,
 "nbformat_minor": 5
}
