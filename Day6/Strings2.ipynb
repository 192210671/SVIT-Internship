{
 "cells": [
  {
   "cell_type": "code",
   "execution_count": 2,
   "id": "0b2733f2-3858-4820-8bec-569c71887f00",
   "metadata": {},
   "outputs": [
    {
     "name": "stdout",
     "output_type": "stream",
     "text": [
      "SVIT Internship\n"
     ]
    }
   ],
   "source": [
    "print(\"SVIT Internship\")"
   ]
  },
  {
   "cell_type": "code",
   "execution_count": 3,
   "id": "53d6ee73-2806-4271-bf7d-ee13d8f25a4c",
   "metadata": {},
   "outputs": [
    {
     "name": "stdout",
     "output_type": "stream",
     "text": [
      "BANANA\n"
     ]
    }
   ],
   "source": [
    "# String Methods\n",
    "\n",
    "f=\"banana\"\n",
    "print(f.upper())   # uppercase\n",
    "\n"
   ]
  },
  {
   "cell_type": "code",
   "execution_count": 4,
   "id": "25079918-f2d0-4c29-9abe-9d322074c8e0",
   "metadata": {},
   "outputs": [
    {
     "name": "stdout",
     "output_type": "stream",
     "text": [
      "mango\n"
     ]
    }
   ],
   "source": [
    "f2=\"MANGO\"\n",
    "print(f2.lower())"
   ]
  },
  {
   "cell_type": "code",
   "execution_count": 6,
   "id": "bee0c900-b981-40e4-bf6f-e3ac25ea3317",
   "metadata": {},
   "outputs": [
    {
     "name": "stdout",
     "output_type": "stream",
     "text": [
      "drink coffee\n"
     ]
    }
   ],
   "source": [
    "f3=\"drink juice\"\n",
    "print(f3.replace(\"juice\",\"coffee\"))"
   ]
  },
  {
   "cell_type": "code",
   "execution_count": 21,
   "id": "ba4a607f-60c0-4da0-b84a-6edb8ee86c2e",
   "metadata": {},
   "outputs": [
    {
     "name": "stdout",
     "output_type": "stream",
     "text": [
      "Newyear\n",
      "Newyear\n"
     ]
    }
   ],
   "source": [
    "f4=\"newyear\"\n",
    "print(f4.title())  # capitalize the first letter in the each word\n",
    "print(f4.capitalize())\n"
   ]
  },
  {
   "cell_type": "code",
   "execution_count": 22,
   "id": "e2817dd8-8d5f-4487-be0a-6c886ee1effb",
   "metadata": {},
   "outputs": [
    {
     "name": "stdout",
     "output_type": "stream",
     "text": [
      "True\n",
      "True\n"
     ]
    }
   ],
   "source": [
    "print(f4.startswith(\"n\"))\n",
    "print(f4.endswith(\"r\"))"
   ]
  },
  {
   "cell_type": "code",
   "execution_count": 23,
   "id": "c95c0beb-dbe9-48d3-b393-d261dd8cd346",
   "metadata": {},
   "outputs": [
    {
     "name": "stdout",
     "output_type": "stream",
     "text": [
      "<class 'str'>\n"
     ]
    }
   ],
   "source": [
    "a=\"123num\"\n",
    "print(type(a))"
   ]
  },
  {
   "cell_type": "code",
   "execution_count": 24,
   "id": "435f1896-696b-4d50-aac3-e2cb836fd5f6",
   "metadata": {},
   "outputs": [
    {
     "name": "stdout",
     "output_type": "stream",
     "text": [
      "True\n"
     ]
    }
   ],
   "source": [
    "print(a.isalnum())  # alpha numeric\n"
   ]
  },
  {
   "cell_type": "code",
   "execution_count": 25,
   "id": "812ce60a-896f-4872-909e-effc1b035195",
   "metadata": {},
   "outputs": [
    {
     "name": "stdout",
     "output_type": "stream",
     "text": [
      "True\n"
     ]
    }
   ],
   "source": [
    "print(f4.isalpha())"
   ]
  },
  {
   "cell_type": "code",
   "execution_count": 26,
   "id": "039e3b0c-66b1-4758-8fe8-3a6be031d673",
   "metadata": {},
   "outputs": [
    {
     "name": "stdout",
     "output_type": "stream",
     "text": [
      "1\n"
     ]
    }
   ],
   "source": [
    "print(f4.find(\"e\"))"
   ]
  },
  {
   "cell_type": "code",
   "execution_count": 27,
   "id": "cc54a660-d964-4aae-af53-ec8075480904",
   "metadata": {},
   "outputs": [
    {
     "data": {
      "text/plain": [
       "2"
      ]
     },
     "execution_count": 27,
     "metadata": {},
     "output_type": "execute_result"
    }
   ],
   "source": [
    "f4.count(\"e\")"
   ]
  },
  {
   "cell_type": "code",
   "execution_count": 29,
   "id": "c08547a4-fde5-4e6d-84ee-4c7641d1967d",
   "metadata": {},
   "outputs": [
    {
     "name": "stdout",
     "output_type": "stream",
     "text": [
      "hello\n"
     ]
    },
    {
     "data": {
      "text/plain": [
       "'hello'"
      ]
     },
     "execution_count": 29,
     "metadata": {},
     "output_type": "execute_result"
    }
   ],
   "source": [
    "f5=\"   hello    \"\n",
    "print(f5.strip()) # remove space at starting and ending \n",
    "f5.strip()"
   ]
  },
  {
   "cell_type": "code",
   "execution_count": 32,
   "id": "91e956b3-b509-4796-a6c7-5247871dc74b",
   "metadata": {},
   "outputs": [
    {
     "data": {
      "text/plain": [
       "3"
      ]
     },
     "execution_count": 32,
     "metadata": {},
     "output_type": "execute_result"
    }
   ],
   "source": [
    "f5.index(\"he\")"
   ]
  },
  {
   "cell_type": "code",
   "execution_count": null,
   "id": "38b5062d-b9c9-4e47-b9ed-820fe53b6bc5",
   "metadata": {},
   "outputs": [],
   "source": []
  }
 ],
 "metadata": {
  "kernelspec": {
   "display_name": "Python 3 (ipykernel)",
   "language": "python",
   "name": "python3"
  },
  "language_info": {
   "codemirror_mode": {
    "name": "ipython",
    "version": 3
   },
   "file_extension": ".py",
   "mimetype": "text/x-python",
   "name": "python",
   "nbconvert_exporter": "python",
   "pygments_lexer": "ipython3",
   "version": "3.11.7"
  }
 },
 "nbformat": 4,
 "nbformat_minor": 5
}
