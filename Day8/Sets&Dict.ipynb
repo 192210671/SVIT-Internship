{
 "cells": [
  {
   "cell_type": "markdown",
   "id": "355f44be-eb29-465d-ad50-de64fd96c3ee",
   "metadata": {},
   "source": [
    "# Sets\n",
    "- Set is unordered\n",
    "- set is unchangable for the values\n",
    "- sets does not allow duplicate values\n",
    "- "
   ]
  },
  {
   "cell_type": "code",
   "execution_count": 3,
   "id": "3f994e01-0f0c-4a48-b584-a69d401c2a07",
   "metadata": {},
   "outputs": [
    {
     "name": "stdout",
     "output_type": "stream",
     "text": [
      "{'Banana', 'Apple', 'Muskmelon'}\n",
      "<class 'set'>\n",
      "<class 'set'>\n"
     ]
    }
   ],
   "source": [
    "set_1={\"Banana\",\"Muskmelon\",\"Apple\",\"Banana\"}\n",
    "print(set_1)\n",
    "print(type(set_1))\n",
    "set_2={\"Banana\"}\n",
    "print(type(set_2))"
   ]
  },
  {
   "cell_type": "code",
   "execution_count": 4,
   "id": "ac256d5d-b82e-4fb3-9993-4202c1b4407d",
   "metadata": {},
   "outputs": [
    {
     "name": "stdout",
     "output_type": "stream",
     "text": [
      "{False, 'og', 'munna', True}\n"
     ]
    }
   ],
   "source": [
    "set_3={\"munna\",\"og\",True,False,1,0}  # 1= True and 0= False\n",
    "print(set_3)\n"
   ]
  },
  {
   "cell_type": "code",
   "execution_count": 5,
   "id": "015bce85-cefb-4ed1-babe-4d270c189584",
   "metadata": {},
   "outputs": [
    {
     "name": "stdout",
     "output_type": "stream",
     "text": [
      "True\n"
     ]
    }
   ],
   "source": [
    "if \"Banana\" in set_1:\n",
    "    print(True)"
   ]
  },
  {
   "cell_type": "markdown",
   "id": "c2d2ff60-882f-4938-94d0-cb0928ac4bbf",
   "metadata": {},
   "source": [
    "# Update\n",
    "- Adds elements from another set (or iterable) to the set.\n",
    "- allow all iterables to update"
   ]
  },
  {
   "cell_type": "code",
   "execution_count": 6,
   "id": "31e61417-bb7b-4c82-afe7-baa2df68eb40",
   "metadata": {},
   "outputs": [
    {
     "name": "stdout",
     "output_type": "stream",
     "text": [
      "{False, True, 'Banana', 'og', 'Muskmelon', 'munna', 'sahoo', 'Apple'}\n"
     ]
    }
   ],
   "source": [
    "\n",
    "set_1={\"Banana\",\"Muskmelon\",\"Apple\",\"Banana\"}\n",
    "set_2={\"munna\",\"sahoo\",\"og\",True,False,1,0}\n",
    "set_1.update(set_2)\n",
    "print(set_1)"
   ]
  },
  {
   "cell_type": "code",
   "execution_count": 9,
   "id": "cd2b4bd0-58b9-4228-9769-83c701527a52",
   "metadata": {},
   "outputs": [
    {
     "name": "stdout",
     "output_type": "stream",
     "text": [
      "{'Papaya', 'Banana', 'Muskmelon', 'Apple', 'custurd apple'}\n"
     ]
    }
   ],
   "source": [
    "set_1={\"Banana\",\"Muskmelon\",\"Apple\",\"Banana\"}\n",
    "list_1=[\"Papaya\",\"custurd apple\"]\n",
    "set_1.update(list_1)    # allow all iterable to update\n",
    "print(set_1)"
   ]
  },
  {
   "cell_type": "markdown",
   "id": "7df808a9-c744-4c90-b089-700f4da2c392",
   "metadata": {},
   "source": [
    "# Remove and Discard\n",
    "- remove() -> it gives error if element not present\n",
    "- discard() -> does not give error if element not present"
   ]
  },
  {
   "cell_type": "code",
   "execution_count": 19,
   "id": "43200f9d-3dce-4b1e-a887-0061824e9634",
   "metadata": {},
   "outputs": [
    {
     "data": {
      "text/plain": [
       "{'Banana', 'Muskmelon'}"
      ]
     },
     "execution_count": 19,
     "metadata": {},
     "output_type": "execute_result"
    }
   ],
   "source": [
    "set_5={\"Banana\",\"Muskmelon\",\"Apple\",\"Banana\"}\n",
    "set_5.remove(\"Apple\")  # it gives error if element not present\n",
    "set_5"
   ]
  },
  {
   "cell_type": "code",
   "execution_count": 27,
   "id": "168ef857-d153-44d8-b8ec-d2f2c547d6e3",
   "metadata": {},
   "outputs": [
    {
     "data": {
      "text/plain": [
       "{'B', 'C', 'D'}"
      ]
     },
     "execution_count": 27,
     "metadata": {},
     "output_type": "execute_result"
    }
   ],
   "source": [
    "set_6={\"A\",\"B\",\"C\",\"D\"}\n",
    "set_6.discard(\"A\")    # does not give error if element not present\n",
    "set_6"
   ]
  },
  {
   "cell_type": "code",
   "execution_count": 29,
   "id": "55d546f5-2d7e-472e-b218-ac17517d431f",
   "metadata": {},
   "outputs": [
    {
     "name": "stdout",
     "output_type": "stream",
     "text": [
      "Banana\n"
     ]
    }
   ],
   "source": [
    "a=set_5.pop()   # don't give the argumnet to the pop method\n",
    "print(a)   "
   ]
  },
  {
   "cell_type": "code",
   "execution_count": 30,
   "id": "9091b480-131e-4e8c-a873-b7428ed4291a",
   "metadata": {},
   "outputs": [
    {
     "data": {
      "text/plain": [
       "set()"
      ]
     },
     "execution_count": 30,
     "metadata": {},
     "output_type": "execute_result"
    }
   ],
   "source": [
    "set_5.clear()\n",
    "set_5"
   ]
  },
  {
   "cell_type": "code",
   "execution_count": 31,
   "id": "28a6e11a-696b-434c-b238-705a081d8e0f",
   "metadata": {},
   "outputs": [],
   "source": [
    "del set_5"
   ]
  },
  {
   "cell_type": "code",
   "execution_count": null,
   "id": "05275edc-b276-4300-bb12-db6048aea5e8",
   "metadata": {},
   "outputs": [],
   "source": []
  },
  {
   "cell_type": "code",
   "execution_count": null,
   "id": "38aa4882-9b7f-4f91-9a8c-faa680706b59",
   "metadata": {},
   "outputs": [],
   "source": []
  }
 ],
 "metadata": {
  "kernelspec": {
   "display_name": "Python 3 (ipykernel)",
   "language": "python",
   "name": "python3"
  },
  "language_info": {
   "codemirror_mode": {
    "name": "ipython",
    "version": 3
   },
   "file_extension": ".py",
   "mimetype": "text/x-python",
   "name": "python",
   "nbconvert_exporter": "python",
   "pygments_lexer": "ipython3",
   "version": "3.11.7"
  }
 },
 "nbformat": 4,
 "nbformat_minor": 5
}
