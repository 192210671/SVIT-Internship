{
 "cells": [
  {
   "cell_type": "code",
   "execution_count": 3,
   "id": "1e2d9401-0823-490a-be5f-d1cfb0ffa95a",
   "metadata": {},
   "outputs": [
    {
     "name": "stdout",
     "output_type": "stream",
     "text": [
      "No of Vowels:  6\n"
     ]
    }
   ],
   "source": [
    "word=\"icecreammm\"\n",
    "count=0\n",
    "vowels=\"aeiouAEIOU\"\n",
    "for ch in word:\n",
    "    if ch not in vowels:\n",
    "        count+=1\n",
    "print(\"No of Consonants: \",count)        "
   ]
  },
  {
   "cell_type": "code",
   "execution_count": 1,
   "id": "f2ec8e11-211c-4f96-b701-23f000a739cb",
   "metadata": {},
   "outputs": [
    {
     "name": "stdin",
     "output_type": "stream",
     "text": [
      "Enter the Number:  10\n"
     ]
    },
    {
     "name": "stdout",
     "output_type": "stream",
     "text": [
      "Sum of Natural Numbers:  55\n"
     ]
    }
   ],
   "source": [
    "n=int(input(\"Enter the Number: \"))\n",
    "sum=0\n",
    "for i in range(1,n+1):\n",
    "    sum+=i\n",
    "print(\"Sum of Natural Numbers: \",sum)    "
   ]
  },
  {
   "cell_type": "code",
   "execution_count": 4,
   "id": "69b08959-c740-402b-902a-a5be9b5bff2f",
   "metadata": {},
   "outputs": [
    {
     "name": "stdin",
     "output_type": "stream",
     "text": [
      "Enter the Number:  2\n",
      "Enter the limit ,like 10,20..... 10\n"
     ]
    },
    {
     "name": "stdout",
     "output_type": "stream",
     "text": [
      "2 * 1 = 2\n",
      "2 * 2 = 4\n",
      "2 * 3 = 6\n",
      "2 * 4 = 8\n",
      "2 * 5 = 10\n",
      "2 * 6 = 12\n",
      "2 * 7 = 14\n",
      "2 * 8 = 16\n",
      "2 * 9 = 18\n",
      "2 * 10 = 20\n"
     ]
    }
   ],
   "source": [
    "n=int(input(\"Enter the Number: \"))\n",
    "m=int(input(\"Enter the limit ,like 10,20.....\"))\n",
    "for i in range(1,m+1):\n",
    "    print(n,\"*\",i,\"=\",n*i)"
   ]
  },
  {
   "cell_type": "code",
   "execution_count": 6,
   "id": "d164e67e-beab-4e80-a4f3-0756e4cda3a7",
   "metadata": {},
   "outputs": [
    {
     "name": "stdout",
     "output_type": "stream",
     "text": [
      "1 1 1 2 1 3 2 1 2 2 2 3 "
     ]
    }
   ],
   "source": [
    "for i in range(1,3):\n",
    "    for j in range(1,4):\n",
    "        print(i,j, end=\" \")\n",
    "        "
   ]
  },
  {
   "cell_type": "code",
   "execution_count": 7,
   "id": "30cecb4a-da3c-44c4-89c0-09aeaa7966a7",
   "metadata": {},
   "outputs": [
    {
     "name": "stdout",
     "output_type": "stream",
     "text": [
      "* \n",
      "* * \n",
      "* * * \n",
      "* * * * \n",
      "* * * * * \n"
     ]
    }
   ],
   "source": [
    "for i  in range(1,6):\n",
    "    for j in range(i):\n",
    "        print(\"*\",end=\" \")\n",
    "    print()    "
   ]
  },
  {
   "cell_type": "code",
   "execution_count": 9,
   "id": "6bbf01d3-8af9-4abd-b2f9-85ccc9d770ae",
   "metadata": {},
   "outputs": [
    {
     "name": "stdout",
     "output_type": "stream",
     "text": [
      "Attendance Marked for :  eswar\n",
      "Attendance Marked for :  revanth\n",
      "Attendance closed\n"
     ]
    }
   ],
   "source": [
    "names=[\"eswar\",\"revanth\",\"hemanth\"]\n",
    "for name in names:\n",
    "    print(\"Attendance Marked for : \",name)\n",
    "    if name.lower()==\"revanth\":\n",
    "        print(\"Attendance closed\")\n",
    "        break"
   ]
  },
  {
   "cell_type": "code",
   "execution_count": 11,
   "id": "1b78cfdb-e0fb-4232-98ef-b5940939b456",
   "metadata": {},
   "outputs": [],
   "source": [
    "def mark_attendace(name):\n",
    "    check=[\"present\",\"absent\"]\n",
    "    n=int(input(\"Mark Attendance 0-for present, 1- for absent: \"))\n",
    "    print(\"\n",
    "\n"
   ]
  },
  {
   "cell_type": "code",
   "execution_count": 14,
   "id": "3e3033a3-3ef9-4ce3-99de-f81c86b46d4d",
   "metadata": {},
   "outputs": [
    {
     "name": "stdin",
     "output_type": "stream",
     "text": [
      "Please enter the beverage order (e.g., tea, coffee, hot chocolate):  coffee\n"
     ]
    },
    {
     "name": "stdout",
     "output_type": "stream",
     "text": [
      "1. Take a glass of water.\n",
      "2. Pour the water into a bowl.\n",
      "3. Put the bowl on the stove.\n",
      "4. Add milk to the mixture.\n",
      "5. Add 'coffee' powder as per the order.\n",
      "6. Wait for 15 minutes.\n",
      "\n",
      "Your order is ready! Enjoy \n"
     ]
    }
   ],
   "source": [
    "def making(order):\n",
    "    print(\"1. Take some water.\")\n",
    "    print(\"2. Pour the water into a bowl.\")\n",
    "    print(\"3. Put the bowl on the stove.\")\n",
    "    print(\"4. Add milk .\")\n",
    "    print(f\"5. Add '{order}' powder as per the order.\")\n",
    "    print(\"6. Wait for 15 minutes.\")\n",
    "    print(\"\\nYour order is ready! Enjoy \")\n",
    "\n",
    "\n",
    "order = input(\"Please enter the beverage order : \")\n",
    "making(order)\n"
   ]
  },
  {
   "cell_type": "code",
   "execution_count": 16,
   "id": "5720bfc9-caff-45ac-b1eb-54e44b948fc1",
   "metadata": {},
   "outputs": [
    {
     "name": "stdin",
     "output_type": "stream",
     "text": [
      "Enter the Number:  5\n"
     ]
    },
    {
     "name": "stdout",
     "output_type": "stream",
     "text": [
      "Factorial of  5 is  120\n"
     ]
    }
   ],
   "source": [
    "n=int(input(\"Enter the Number: \"))\n",
    "fact=1\n",
    "for i in range(1,n+1):\n",
    "    fact*=i\n",
    "print(\"Factorial of \",n,\"is \",fact )    "
   ]
  },
  {
   "cell_type": "code",
   "execution_count": null,
   "id": "94857373-14f0-4366-a9ac-3ab7debd3c03",
   "metadata": {},
   "outputs": [],
   "source": []
  }
 ],
 "metadata": {
  "kernelspec": {
   "display_name": "Python 3 (ipykernel)",
   "language": "python",
   "name": "python3"
  },
  "language_info": {
   "codemirror_mode": {
    "name": "ipython",
    "version": 3
   },
   "file_extension": ".py",
   "mimetype": "text/x-python",
   "name": "python",
   "nbconvert_exporter": "python",
   "pygments_lexer": "ipython3",
   "version": "3.11.7"
  }
 },
 "nbformat": 4,
 "nbformat_minor": 5
}
